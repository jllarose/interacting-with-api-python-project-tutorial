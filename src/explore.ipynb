{
    "cells": [
        {
            "cell_type": "markdown",
            "metadata": {},
            "source": [
                "# Explore here"
            ]
        },
        {
            "cell_type": "code",
            "execution_count": 15,
            "metadata": {},
            "outputs": [
                {
                    "data": {
                        "text/plain": [
                            "True"
                        ]
                    },
                    "execution_count": 15,
                    "metadata": {},
                    "output_type": "execute_result"
                }
            ],
            "source": [
                "import os\n",
                "import pandas as pd\n",
                "#import seaborn as sns\n",
                "from dotenv import load_dotenv\n",
                "import spotipy\n",
                "from spotipy.oauth2 import SpotifyOAuth\n",
                "from spotipy.oauth2 import SpotifyClientCredentials\n",
                "import base64\n",
                "import requests\n",
                "\n",
                "# load the .env file variables\n",
                "load_dotenv()"
            ]
        },
        {
            "cell_type": "code",
            "execution_count": 20,
            "metadata": {},
            "outputs": [
                {
                    "name": "stdout",
                    "output_type": "stream",
                    "text": [
                        "Access token obtained!\n"
                    ]
                }
            ],
            "source": [
                "client_id = os.environ.get(\"CLIENT_ID\")\n",
                "client_secret = os.environ.get(\"CLIENT_SECRET\")\n",
                "\n",
                "sp = spotipy.Spotify(auth_manager=SpotifyClientCredentials(client_id=client_id, client_secret=client_secret))\n",
                "\n",
                "# Encode the client credentials\n",
                "client_credentials = f\"{client_id}:{client_secret}\"\n",
                "client_credentials_base64 = base64.b64encode(client_credentials.encode())\n",
                "\n",
                "# Prepare the token request\n",
                "token_url = \"https://accounts.spotify.com/api/token\"\n",
                "headers = {\n",
                "    \"Authorization\": f\"Basic {client_credentials_base64.decode()}\"\n",
                "}\n",
                "data = {\n",
                "    \"grant_type\": \"client_credentials\"\n",
                "}\n",
                "\n",
                "# Request access token\n",
                "response = requests.post(token_url, headers=headers, data=data)\n",
                "\n",
                "# Check if the request was successful\n",
                "if response.status_code == 200:\n",
                "    access_token = response.json()['access_token']\n",
                "    print(\"Access token obtained!\")\n",
                "else:\n",
                "    print(f\"Failed to obtain access token. Status code: {response.status_code}\")\n",
                "    print(response.text)"
            ]
        },
        {
            "cell_type": "code",
            "execution_count": 21,
            "metadata": {},
            "outputs": [
                {
                    "data": {
                        "text/plain": [
                            "'BQCETapGA_nod1QgkDH0TOwsCZQ7-yy1aQOefNWxOJYM2Ci3j7zvo05rO9nFdIlibRE0DxL3CbwwSRMumYRKCL9rebe50q-BvRucvaqPmOR0uv5QItc'"
                        ]
                    },
                    "execution_count": 21,
                    "metadata": {},
                    "output_type": "execute_result"
                }
            ],
            "source": [
                "access_token"
            ]
        },
        {
            "cell_type": "code",
            "execution_count": 22,
            "metadata": {},
            "outputs": [],
            "source": [
                "artist_id = \"3lFDsTyYNPQc8WzJExnQWn\"\n"
            ]
        },
        {
            "cell_type": "code",
            "execution_count": 23,
            "metadata": {},
            "outputs": [],
            "source": [
                "# Get top 10 songs\n",
                "top_tracks = sp.artist_top_tracks(artist_id, country='US')"
            ]
        },
        {
            "cell_type": "code",
            "execution_count": 32,
            "metadata": {},
            "outputs": [
                {
                    "name": "stdout",
                    "output_type": "stream",
                    "text": [
                        "1. Talk It Up - Album: The Good Life- Popularity: 55 - Duration: 3.974666666666667 minutes\n",
                        "2. Kick It to Me - Album: The Good Life- Popularity: 53 - Duration: 6.46 minutes\n",
                        "3. Good Life - Album: The Good Life- Popularity: 51 - Duration: 3.933333333333333 minutes\n",
                        "4. No Rulebook - Album: Something for Everybody- Popularity: 46 - Duration: 3.892733333333333 minutes\n",
                        "5. Coming Home Song - Album: Something for Everybody- Popularity: 47 - Duration: 3.3494 minutes\n",
                        "6. Cool-Doug, at Night - Album: Something for Everybody- Popularity: 47 - Duration: 3.5465 minutes\n",
                        "7. The Feeling - Album: The Good Life- Popularity: 50 - Duration: 3.9368833333333333 minutes\n",
                        "8. Jackie Onassis - Album: Jackie Onassis- Popularity: 49 - Duration: 4.8857 minutes\n",
                        "9. Whatever We Feel - Album: Whatever We Feel- Popularity: 48 - Duration: 3.48275 minutes\n",
                        "10. Good Time Tavern - Album: Something for Everybody- Popularity: 47 - Duration: 3.5524666666666667 minutes\n"
                    ]
                }
            ],
            "source": [
                "for idx, track in enumerate(top_tracks['tracks'], start=1):\n",
                "     # print(f\"Track data: {track}\")\n",
                "    track_name = track['name']\n",
                "    album_name = track['album']['name']\n",
                "    print(f\"{idx}. {track_name} - Album: {album_name}- Popularity: {track['popularity']} - Duration: {track['duration_ms']/60000} minutes\")\n",
                "    "
            ]
        },
        {
            "cell_type": "code",
            "execution_count": 33,
            "metadata": {},
            "outputs": [
                {
                    "data": {
                        "text/html": [
                            "<div>\n",
                            "<style scoped>\n",
                            "    .dataframe tbody tr th:only-of-type {\n",
                            "        vertical-align: middle;\n",
                            "    }\n",
                            "\n",
                            "    .dataframe tbody tr th {\n",
                            "        vertical-align: top;\n",
                            "    }\n",
                            "\n",
                            "    .dataframe thead th {\n",
                            "        text-align: right;\n",
                            "    }\n",
                            "</style>\n",
                            "<table border=\"1\" class=\"dataframe\">\n",
                            "  <thead>\n",
                            "    <tr style=\"text-align: right;\">\n",
                            "      <th></th>\n",
                            "      <th>name</th>\n",
                            "      <th>popularity</th>\n",
                            "      <th>duration_min</th>\n",
                            "    </tr>\n",
                            "  </thead>\n",
                            "  <tbody>\n",
                            "    <tr>\n",
                            "      <th>0</th>\n",
                            "      <td>Talk It Up</td>\n",
                            "      <td>55</td>\n",
                            "      <td>3.97</td>\n",
                            "    </tr>\n",
                            "    <tr>\n",
                            "      <th>1</th>\n",
                            "      <td>Kick It to Me</td>\n",
                            "      <td>53</td>\n",
                            "      <td>6.46</td>\n",
                            "    </tr>\n",
                            "    <tr>\n",
                            "      <th>2</th>\n",
                            "      <td>Good Life</td>\n",
                            "      <td>51</td>\n",
                            "      <td>3.93</td>\n",
                            "    </tr>\n",
                            "    <tr>\n",
                            "      <th>3</th>\n",
                            "      <td>No Rulebook</td>\n",
                            "      <td>46</td>\n",
                            "      <td>3.89</td>\n",
                            "    </tr>\n",
                            "    <tr>\n",
                            "      <th>4</th>\n",
                            "      <td>Coming Home Song</td>\n",
                            "      <td>47</td>\n",
                            "      <td>3.35</td>\n",
                            "    </tr>\n",
                            "  </tbody>\n",
                            "</table>\n",
                            "</div>"
                        ],
                        "text/plain": [
                            "               name  popularity  duration_min\n",
                            "0        Talk It Up          55          3.97\n",
                            "1     Kick It to Me          53          6.46\n",
                            "2         Good Life          51          3.93\n",
                            "3       No Rulebook          46          3.89\n",
                            "4  Coming Home Song          47          3.35"
                        ]
                    },
                    "execution_count": 33,
                    "metadata": {},
                    "output_type": "execute_result"
                }
            ],
            "source": [
                "top_songs = []\n",
                "for track in top_tracks['tracks'][:10]:\n",
                "    song_info = {\n",
                "        \"name\": track['name'],\n",
                "        \"popularity\": track['popularity'],\n",
                "        \"duration_min\": round(track['duration_ms'] / 60000, 2)  # Convert ms to minutes\n",
                "    }\n",
                "    top_songs.append(song_info)\n",
                "\n",
                "top_songs_df = pd.DataFrame(top_songs)\n",
                "top_songs_df.head()"
            ]
        },
        {
            "cell_type": "code",
            "execution_count": 36,
            "metadata": {},
            "outputs": [
                {
                    "data": {
                        "image/png": "[encoded data removed]",
                        "text/plain": [
                            "<Figure size 640x480 with 1 Axes>"
                        ]
                    },
                    "metadata": {},
                    "output_type": "display_data"
                }
            ],
            "source": [
                "import seaborn as sns\n",
                "\n",
                "scatter_plot = sns.scatterplot(data = top_songs_df, x = \"popularity\", y = \"duration_min\")\n",
                "fig = scatter_plot.get_figure()\n",
                "fig.savefig(\"scatter_plot.png\")"
            ]
        },
        {
            "cell_type": "markdown",
            "metadata": {},
            "source": [
                "There does not seem to be a relationship between populatity and length of song."
            ]
        }
    ],
    "metadata": {
        "kernelspec": {
            "display_name": ".venv",
            "language": "python",
            "name": "python3"
        },
        "language_info": {
            "codemirror_mode": {
                "name": "ipython",
                "version": 3
            },
            "file_extension": ".py",
            "mimetype": "text/x-python",
            "name": "python",
            "nbconvert_exporter": "python",
            "pygments_lexer": "ipython3",
            "version": "3.11.4"
        },
        "orig_nbformat": 4
    },
    "nbformat": 4,
    "nbformat_minor": 2
}
